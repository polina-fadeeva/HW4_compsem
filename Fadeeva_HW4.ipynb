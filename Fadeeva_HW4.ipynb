{
  "nbformat": 4,
  "nbformat_minor": 0,
  "metadata": {
    "colab": {
      "provenance": []
    },
    "kernelspec": {
      "name": "python3",
      "display_name": "Python 3"
    },
    "language_info": {
      "name": "python"
    }
  },
  "cells": [
    {
      "cell_type": "markdown",
      "source": [
        "# 1"
      ],
      "metadata": {
        "id": "oL-vuo91TX4a"
      }
    },
    {
      "cell_type": "markdown",
      "source": [
        "Код для буквального слушающего:"
      ],
      "metadata": {
        "id": "sEvuUYwISh7G"
      }
    },
    {
      "cell_type": "code",
      "source": [
        "from sklearn. preprocessing import normalize\n",
        "literal_listener = normalize(lexicon, axis= 1 , norm='l1')\n",
        "msgs = ['шляпа', 'очки', 'усы']\n",
        "states = ['r1', 'r2', 'r3']\n",
        "literal_listener = pd.DataFrame(literal_listener, index=msgs, columns=states)"
      ],
      "metadata": {
        "colab": {
          "base_uri": "https://localhost:8080/"
        },
        "id": "HODa8Ax30KBp",
        "outputId": "a01da1b3-d6ee-4274-f98e-577a22a4c5bc"
      },
      "execution_count": null,
      "outputs": [
        {
          "output_type": "stream",
          "name": "stdout",
          "text": [
            "Literal listener\n",
            "\n",
            "         r1   r2   r3\n",
            "шляпа  0.5  0.5  0.0\n",
            "очки   0.0  0.0  1.0\n",
            "усы    0.0  1.0  0.0\n"
          ]
        }
      ]
    },
    {
      "cell_type": "markdown",
      "source": [
        "Код для прагматического слушающего:"
      ],
      "metadata": {
        "id": "nHwI2EcxSeKO"
      }
    },
    {
      "cell_type": "code",
      "source": [
        "listener = (speaker.T * (1/3))\n",
        "listener = normalize(listener, axis= 1 , norm='l1')\n",
        "msgs = ['шляпа', 'очки', 'усы']\n",
        "states = ['r1', 'r2', 'r3']\n",
        "listener = pd.DataFrame(listener, index=msgs, columns=states)"
      ],
      "metadata": {
        "colab": {
          "base_uri": "https://localhost:8080/"
        },
        "id": "cl7_AsF70UGr",
        "outputId": "0b5b22ff-ee29-4894-fcde-53940b809905"
      },
      "execution_count": null,
      "outputs": [
        {
          "output_type": "stream",
          "name": "stdout",
          "text": [
            "Listener\n",
            "\n",
            "          r1    r2   r3\n",
            "шляпа  0.75  0.25  0.0\n",
            "очки   0.00  0.00  1.0\n",
            "усы    0.00  1.00  0.0\n"
          ]
        }
      ]
    },
    {
      "cell_type": "markdown",
      "source": [
        "# 2"
      ],
      "metadata": {
        "id": "9wbqMRdpTfaJ"
      }
    },
    {
      "cell_type": "markdown",
      "source": [
        "Из данной таблицы можно вывести скалярную импликатуру."
      ],
      "metadata": {
        "id": "cUMQPhMtB6IQ"
      }
    },
    {
      "cell_type": "markdown",
      "source": [
        "Новая таблица распределения вероятностей:\n",
        "```\n",
        "0,69  0,31  0\n",
        " 0     0    1\n",
        " 0     1    0\n",
        "```\n",
        "\n",
        "С повышением исходной вероятности для r2 повысилась и вероятность для первого объекта во втором высказывании (и понизилась в первом), однако из этой таблицы также можно вывести одну скалярную импликатуру.\n"
      ],
      "metadata": {
        "id": "pEv9f4xXTT57"
      }
    },
    {
      "cell_type": "markdown",
      "source": [
        "# 3"
      ],
      "metadata": {
        "id": "bUZG37FRaIrL"
      }
    },
    {
      "cell_type": "markdown",
      "source": [
        "Варианты референциальных игр с двумя скалярными импликатурами:\n",
        "\n",
        "```\n",
        "1  1  0\n",
        "0  0  1\n",
        "0  1  1\n",
        "```\n",
        "```\n",
        "0  1  0\n",
        "1  1  0\n",
        "1  0  1\n",
        "```"
      ],
      "metadata": {
        "id": "iJR8uyskaKaR"
      }
    }
  ]
}